{
 "cells": [
  {
   "cell_type": "markdown",
   "id": "2234fb6f",
   "metadata": {},
   "source": [
    "### Выводы по работе"
   ]
  },
  {
   "cell_type": "markdown",
   "id": "74da6f24",
   "metadata": {},
   "source": [
    "1. Создание новых признаков почти невозможно из-за кодирования информации (высокий шанс испортить данные из-за их не понимания)\n",
    "2. Дефолтных должников по отношению к нормальным должникам примерно 1:29 (сильный дисбаланс)\n",
    "3. a) При построении работы использовались три модели (MLPClassifier, LogisticRegression, GradientBoosingClassifier\n",
    "3. b) Выбор лучшей модели производился только на одном паркете из-за ограниченности ресурсов\n",
    "3. с) Методы правки количества данных не производились (downsampling - можно потерять часть важный данных,\n",
    "                                                        upsampling - можно увеличить шум (т.к. данных вообще не знаем),\n",
    "                                                        SMOTE аналаогично может навредить модели, генерируя шум)\n",
    "4. Подбор гиперпараметров производился также только 30% данных из-за ограниченности мощности\n",
    "5. Переобученность модели проверялась на всех данных с помощью cross_val_score"
   ]
  },
  {
   "cell_type": "markdown",
   "id": "9fea4b99",
   "metadata": {},
   "source": [
    "Более подробные комментарии есть по работе ниже"
   ]
  },
  {
   "cell_type": "markdown",
   "id": "1c4c83cd",
   "metadata": {},
   "source": [
    "### Импорт библиотек"
   ]
  },
  {
   "cell_type": "code",
   "execution_count": 1,
   "id": "0b453a33",
   "metadata": {},
   "outputs": [],
   "source": [
    "import os\n",
    "import gc\n",
    "import pandas as pd\n",
    "import tqdm\n",
    "import numpy as np\n",
    "from matplotlib import pyplot as plt\n",
    "\n",
    "from sklearn.preprocessing import OneHotEncoder\n",
    "\n",
    "from sklearn.model_selection import train_test_split, cross_val_score, GridSearchCV\n",
    "from sklearn.neural_network import MLPClassifier\n",
    "from sklearn.linear_model import LogisticRegression\n",
    "from sklearn.ensemble import GradientBoostingClassifier\n",
    "\n",
    "from sklearn.metrics import precision_score, recall_score, confusion_matrix, roc_auc_score, roc_curve, auc\n",
    "\n",
    "import dill as dill\n",
    "\n",
    "import warnings\n",
    "warnings.filterwarnings(\"ignore\")"
   ]
  },
  {
   "cell_type": "code",
   "execution_count": 2,
   "id": "25b4afc0",
   "metadata": {},
   "outputs": [],
   "source": [
    "def read_parquet_dataset_from_local(path_to_dataset: str, start_from: int = 0,\n",
    "                                     num_parts_to_read: int = 2, columns=None, verbose=False) -> pd.DataFrame:\n",
    "    \"\"\"\n",
    "    читает num_parts_to_read партиций, преобразовывает их к pd.DataFrame и возвращает\n",
    "    :param path_to_dataset: путь до директории с партициями\n",
    "    :param start_from: номер партиции, с которой нужно начать чтение\n",
    "    :param num_parts_to_read: количество партиций, которые требуется прочитать\n",
    "    :param columns: список колонок, которые нужно прочитать из партиции\n",
    "    :return: pd.DataFrame\n",
    "    \"\"\"\n",
    "\n",
    "    res = []\n",
    "    dataset_paths = sorted([os.path.join(path_to_dataset, filename) for filename in os.listdir(path_to_dataset)\n",
    "                              if filename.startswith('train')])\n",
    "    print(dataset_paths)\n",
    "\n",
    "    start_from = max(0, start_from)\n",
    "    chunks = dataset_paths[start_from: start_from + num_parts_to_read]\n",
    "    if verbose:\n",
    "        print('Reading chunks:\\n')\n",
    "        for chunk in chunks:\n",
    "            print(chunk)\n",
    "    for chunk_path in tqdm.tqdm_notebook(chunks, desc=\"Reading dataset with pandas\"):\n",
    "        print('chunk_path', chunk_path)\n",
    "        chunk = pd.read_parquet(chunk_path,columns=columns)\n",
    "        res.append(chunk)\n",
    "\n",
    "    return pd.concat(res).reset_index(drop=True)"
   ]
  },
  {
   "cell_type": "code",
   "execution_count": 3,
   "id": "794130b9",
   "metadata": {},
   "outputs": [],
   "source": [
    "def prepare_transactions_dataset(path_to_dataset: str, num_parts_to_preprocess_at_once: int = 1, num_parts_total: int=50,\n",
    "                                 save_to_path=None, verbose: bool=False):\n",
    "    \"\"\"\n",
    "    возвращает готовый pd.DataFrame с признаками, на которых можно учить модель для целевой задачи\n",
    "    path_to_dataset: str\n",
    "        путь до датасета с партициями\n",
    "    num_parts_to_preprocess_at_once: int\n",
    "        количество партиций, которые будут одновременно держаться и обрабатываться в памяти\n",
    "    num_parts_total: int\n",
    "        общее количество партиций, которые нужно обработать\n",
    "    save_to_path: str\n",
    "        путь до папки, в которой будет сохранён каждый обработанный блок в .parquet-формате; если None, то не будет сохранён\n",
    "    verbose: bool\n",
    "        логирует каждую обрабатываемую часть данных\n",
    "    \"\"\"\n",
    "    preprocessed_frames = []\n",
    "    npl_frames = []\n",
    "    \n",
    "    counts_npl = ['pre_loans5', 'pre_loans530', 'pre_loans3060', 'pre_loans6090', 'pre_loans90']\n",
    "    mark_npl = ['is_zero_loans5', 'is_zero_loans530', 'is_zero_loans3060', 'is_zero_loans6090', 'is_zero_loans90']\n",
    "    incl_npl = counts_npl + mark_npl + ['id']\n",
    "    \n",
    "    for step in tqdm.tqdm_notebook(range(0, num_parts_total, num_parts_to_preprocess_at_once),\n",
    "                                   desc=\"Transforming transactions data\"):\n",
    "        transactions_frame = read_parquet_dataset_from_local(path_to_dataset, step, num_parts_to_preprocess_at_once,\n",
    "                                                             verbose=verbose)\n",
    "   \n",
    "   #здесь должен быть препроцессинг данных\n",
    "        for col in transactions_frame.drop('id', axis=1).columns:\n",
    "            transactions_frame[col] = transactions_frame[col].astype('int8')\n",
    "        transactions_frame['id'] = transactions_frame['id'].astype('int32')\n",
    "        \n",
    "        transactions_NPL = npl_all_buckets(transactions_frame[incl_npl], counts_npl, mark_npl)\n",
    "        transactions_frame = ohe_transformation(transactions_frame.drop(mark_npl, axis=1))\n",
    "        \n",
    "   #записываем подготовленные данные в файл\n",
    "        if save_to_path:\n",
    "            block_as_str = str(step)\n",
    "            if len(block_as_str) == 1:\n",
    "                block_as_str = '00' + block_as_str\n",
    "            else:\n",
    "                block_as_str = '0' + block_as_str\n",
    "            transactions_frame.to_parquet(os.path.join(save_to_path, f'processed_chunk_{block_as_str}.parquet'))\n",
    "        \n",
    "        preprocessed_frames.append(transactions_frame)      \n",
    "        npl_frames.append(transactions_NPL)\n",
    "\n",
    "    preprocessed_frames = pd.concat(preprocessed_frames)\n",
    "    npl_frames = pd.concat(npl_frames)\n",
    "    preprocessed_frames = preprocessed_frames.merge(npl_frames, on=\"id\")\n",
    "    preprocessed_frames.fillna(np.uint8(0), inplace=True)\n",
    "    \n",
    "    return preprocessed_frames"
   ]
  },
  {
   "cell_type": "code",
   "execution_count": 4,
   "id": "c1ed2d0c",
   "metadata": {},
   "outputs": [],
   "source": [
    "# Функция для OHE-кодирования с суммированием после категориальных признаков по коду клиенту (id)\n",
    "def ohe_transformation(datafr):\n",
    "    ohe = OneHotEncoder(sparse=False, dtype='int8')\n",
    "    col_for_ohe = datafr.drop(['id', 'rn', 'pre_loans_total_overdue'],axis=1).columns\n",
    "    \n",
    "    ohe_dats = ohe.fit_transform(datafr[col_for_ohe])\n",
    "    datafr[ohe.get_feature_names_out()] = ohe_dats\n",
    "    datafr.drop(col_for_ohe, axis=1, inplace=True)\n",
    "    \n",
    "    datafr.groupby(\"id\")\n",
    "    rez_fr = datafr.groupby(\"id\")[ohe.get_feature_names_out()].sum().reset_index(drop=False)\n",
    "    return rez_fr"
   ]
  },
  {
   "cell_type": "code",
   "execution_count": 5,
   "id": "fa7e237f",
   "metadata": {},
   "outputs": [],
   "source": [
    "# Функция для получения процента просрочки по клиенту в каждой корзине (подробнее описано ниже в работе)\n",
    "def npl_all_buckets(datafr, c_npl, m_npl)-> pd.DataFrame:\n",
    "    buckets = {'pre_loans5': 6,\n",
    "               'pre_loans530': 16,\n",
    "               'pre_loans3060': 5,\n",
    "               'pre_loans6090': 4,\n",
    "               'pre_loans90': 8}\n",
    "    \n",
    "    all_id = datafr.groupby('id')['id'].count().reset_index(name='all_count')\n",
    "    \n",
    "    for i in range(len(c_npl)):\n",
    "        zero = datafr[(datafr[c_npl[i]] == buckets[c_npl[i]]) & (datafr[m_npl[i]] == 1)].groupby('id')[c_npl[i]].count().reset_index(name='count_0')\n",
    "        all_id = all_id.merge(zero[['id', 'count_0']], on='id', how=\"outer\")\n",
    "        \n",
    "        name_out = 'perc_' + c_npl[i]\n",
    "        all_id[name_out] = round(1 - all_id['count_0'] / all_id['all_count'], 2).astype('float32')\n",
    "        all_id.drop('count_0', axis=1, inplace=True)\n",
    "        \n",
    "    all_id.fillna(np.uint8(1), inplace=True)    \n",
    "    end_frame = all_id.drop(['all_count'], axis=1)\n",
    "    return end_frame"
   ]
  },
  {
   "cell_type": "code",
   "execution_count": 6,
   "id": "edeac830",
   "metadata": {},
   "outputs": [],
   "source": [
    "path = 'train_data/'"
   ]
  },
  {
   "cell_type": "code",
   "execution_count": 7,
   "id": "dce8e078",
   "metadata": {
    "scrolled": true
   },
   "outputs": [
    {
     "data": {
      "application/vnd.jupyter.widget-view+json": {
       "model_id": "1c28e65d3c534fa9a873c104eb7d8488",
       "version_major": 2,
       "version_minor": 0
      },
      "text/plain": [
       "Transforming transactions data:   0%|          | 0/2 [00:00<?, ?it/s]"
      ]
     },
     "metadata": {},
     "output_type": "display_data"
    },
    {
     "name": "stdout",
     "output_type": "stream",
     "text": [
      "['train_data/train_data_0.pq', 'train_data/train_data_1.pq', 'train_data/train_data_10.pq', 'train_data/train_data_11.pq', 'train_data/train_data_2.pq', 'train_data/train_data_3.pq', 'train_data/train_data_4.pq', 'train_data/train_data_5.pq', 'train_data/train_data_6.pq', 'train_data/train_data_7.pq', 'train_data/train_data_8.pq', 'train_data/train_data_9.pq']\n"
     ]
    },
    {
     "data": {
      "application/vnd.jupyter.widget-view+json": {
       "model_id": "21ef0e1971c841bf9c5c7be78ca73db4",
       "version_major": 2,
       "version_minor": 0
      },
      "text/plain": [
       "Reading dataset with pandas:   0%|          | 0/6 [00:00<?, ?it/s]"
      ]
     },
     "metadata": {},
     "output_type": "display_data"
    },
    {
     "name": "stdout",
     "output_type": "stream",
     "text": [
      "chunk_path train_data/train_data_0.pq\n",
      "chunk_path train_data/train_data_1.pq\n",
      "chunk_path train_data/train_data_10.pq\n",
      "chunk_path train_data/train_data_11.pq\n",
      "chunk_path train_data/train_data_2.pq\n",
      "chunk_path train_data/train_data_3.pq\n",
      "['train_data/train_data_0.pq', 'train_data/train_data_1.pq', 'train_data/train_data_10.pq', 'train_data/train_data_11.pq', 'train_data/train_data_2.pq', 'train_data/train_data_3.pq', 'train_data/train_data_4.pq', 'train_data/train_data_5.pq', 'train_data/train_data_6.pq', 'train_data/train_data_7.pq', 'train_data/train_data_8.pq', 'train_data/train_data_9.pq']\n"
     ]
    },
    {
     "data": {
      "application/vnd.jupyter.widget-view+json": {
       "model_id": "12dc14f6fd5941e09f52989387fda633",
       "version_major": 2,
       "version_minor": 0
      },
      "text/plain": [
       "Reading dataset with pandas:   0%|          | 0/6 [00:00<?, ?it/s]"
      ]
     },
     "metadata": {},
     "output_type": "display_data"
    },
    {
     "name": "stdout",
     "output_type": "stream",
     "text": [
      "chunk_path train_data/train_data_4.pq\n",
      "chunk_path train_data/train_data_5.pq\n",
      "chunk_path train_data/train_data_6.pq\n",
      "chunk_path train_data/train_data_7.pq\n",
      "chunk_path train_data/train_data_8.pq\n",
      "chunk_path train_data/train_data_9.pq\n"
     ]
    }
   ],
   "source": [
    "data = prepare_transactions_dataset(path, num_parts_to_preprocess_at_once=6, num_parts_total=12,\n",
    "                                    save_to_path='train_data/')"
   ]
  },
  {
   "cell_type": "markdown",
   "id": "9347d064",
   "metadata": {},
   "source": [
    "### Вес одного паркета данных"
   ]
  },
  {
   "cell_type": "code",
   "execution_count": 8,
   "id": "ea706c2e",
   "metadata": {},
   "outputs": [],
   "source": [
    "memory_usage_of_frame = data.memory_usage(index=True).sum() / 10**9"
   ]
  },
  {
   "cell_type": "code",
   "execution_count": 9,
   "id": "456195cf",
   "metadata": {
    "scrolled": true
   },
   "outputs": [
    {
     "data": {
      "text/plain": [
       "1.683000132"
      ]
     },
     "execution_count": 9,
     "metadata": {},
     "output_type": "execute_result"
    }
   ],
   "source": [
    "memory_usage_of_frame"
   ]
  },
  {
   "cell_type": "markdown",
   "id": "fbda3fda",
   "metadata": {},
   "source": [
    "### Количество строк и столбцов после всех обработок по всему массиву данных"
   ]
  },
  {
   "cell_type": "code",
   "execution_count": 8,
   "id": "697e91d5",
   "metadata": {},
   "outputs": [
    {
     "data": {
      "text/plain": [
       "(3000000, 413)"
      ]
     },
     "execution_count": 8,
     "metadata": {},
     "output_type": "execute_result"
    }
   ],
   "source": [
    "data.shape"
   ]
  },
  {
   "cell_type": "markdown",
   "id": "1617f7fd",
   "metadata": {},
   "source": [
    "### Информация по значениям по столбцам по всему датафрейму"
   ]
  },
  {
   "cell_type": "code",
   "execution_count": 17,
   "id": "fd6e70b1",
   "metadata": {
    "scrolled": true
   },
   "outputs": [
    {
     "name": "stdout",
     "output_type": "stream",
     "text": [
      "id\n",
      "2891734    58\n",
      "1782755    55\n",
      "1658519    54\n",
      "62963      51\n",
      "508303     51\n",
      "           ..\n",
      "2349517     1\n",
      "1108612     1\n",
      "883552      1\n",
      "1903673     1\n",
      "2531540     1\n",
      "Name: count, Length: 3000000, dtype: int64\n",
      "**********\n",
      "rn\n",
      "1     3000000\n",
      "2     2779455\n",
      "3     2550810\n",
      "4     2320731\n",
      "5     2094188\n",
      "6     1876509\n",
      "7     1668536\n",
      "8     1473997\n",
      "9     1294408\n",
      "10    1130303\n",
      "11     982254\n",
      "12     850192\n",
      "13     733250\n",
      "14     630295\n",
      "15     540573\n",
      "16     457926\n",
      "17     383308\n",
      "18     315058\n",
      "19     254553\n",
      "20     201566\n",
      "21     156755\n",
      "22     120002\n",
      "23      90835\n",
      "24      67755\n",
      "25      50452\n",
      "26      37382\n",
      "27      27698\n",
      "28      20450\n",
      "29      15053\n",
      "30      11050\n",
      "31       8006\n",
      "32       5815\n",
      "33       4185\n",
      "34       2964\n",
      "35       2063\n",
      "36       1447\n",
      "37        987\n",
      "38        662\n",
      "39        441\n",
      "40        280\n",
      "41        178\n",
      "42        123\n",
      "43         75\n",
      "44         41\n",
      "45         32\n",
      "46         17\n",
      "47         12\n",
      "48         10\n",
      "49          9\n",
      "50          7\n",
      "51          5\n",
      "52          3\n",
      "53          3\n",
      "54          3\n",
      "55          2\n",
      "56          1\n",
      "57          1\n",
      "58          1\n",
      "Name: count, dtype: int64\n",
      "**********\n",
      "pre_since_opened\n",
      "13    1645938\n",
      "0     1561873\n",
      "6     1522882\n",
      "10    1409770\n",
      "8     1406244\n",
      "18    1388400\n",
      "14    1315095\n",
      "9     1312790\n",
      "7     1307521\n",
      "1     1300842\n",
      "2     1290724\n",
      "4     1255220\n",
      "11    1250266\n",
      "19    1230414\n",
      "3     1211933\n",
      "17    1202495\n",
      "16    1200566\n",
      "5     1196677\n",
      "15    1193193\n",
      "12     959874\n",
      "Name: count, dtype: int64\n",
      "**********\n",
      "pre_since_confirmed\n",
      "9     4909419\n",
      "6     1948337\n",
      "4     1514861\n",
      "17    1503451\n",
      "3     1435553\n",
      "14    1410504\n",
      "10    1361991\n",
      "13    1313856\n",
      "7     1291490\n",
      "1     1245131\n",
      "2     1239514\n",
      "8     1234641\n",
      "16    1213550\n",
      "0     1192383\n",
      "5     1180787\n",
      "12    1108831\n",
      "11    1058230\n",
      "15        188\n",
      "Name: count, dtype: int64\n",
      "**********\n",
      "pre_pterm\n",
      "4     4456185\n",
      "14    2336504\n",
      "2     1532229\n",
      "17    1520418\n",
      "1     1483207\n",
      "16    1460983\n",
      "11    1430459\n",
      "9     1428200\n",
      "6     1400005\n",
      "7     1391864\n",
      "0     1312386\n",
      "13    1310140\n",
      "8     1307841\n",
      "15    1294553\n",
      "12    1205634\n",
      "3      923202\n",
      "10     367939\n",
      "5         968\n",
      "Name: count, dtype: int64\n",
      "**********\n",
      "pre_fterm\n",
      "8     6204663\n",
      "9     1695807\n",
      "0     1597751\n",
      "14    1566914\n",
      "6     1493807\n",
      "16    1463400\n",
      "7     1460416\n",
      "13    1363752\n",
      "15    1323654\n",
      "11    1303353\n",
      "1     1207377\n",
      "5     1204894\n",
      "10    1199907\n",
      "2     1175844\n",
      "12    1034805\n",
      "3      866017\n",
      "4         356\n",
      "Name: count, dtype: int64\n",
      "**********\n",
      "pre_till_pclose\n",
      "1     4910941\n",
      "8     1499795\n",
      "13    1466470\n",
      "14    1451729\n",
      "12    1441898\n",
      "3     1419577\n",
      "6     1395040\n",
      "5     1357688\n",
      "9     1327500\n",
      "10    1323903\n",
      "16    1317347\n",
      "11    1295073\n",
      "4     1263147\n",
      "15    1257003\n",
      "0     1246379\n",
      "2     1188430\n",
      "7     1000797\n",
      "Name: count, dtype: int64\n",
      "**********\n",
      "pre_till_fclose\n",
      "11    7082796\n",
      "5     1491932\n",
      "3     1490175\n",
      "8     1427444\n",
      "10    1377705\n",
      "13    1360559\n",
      "1     1326558\n",
      "4     1307602\n",
      "7     1300230\n",
      "12    1289604\n",
      "0     1274251\n",
      "14    1267633\n",
      "9     1259756\n",
      "6     1245281\n",
      "15    1158211\n",
      "2      502980\n",
      "Name: count, dtype: int64\n",
      "**********\n",
      "pre_loans_credit_limit\n",
      "14    2136533\n",
      "19    1459193\n",
      "11    1422358\n",
      "15    1411541\n",
      "0     1408767\n",
      "7     1383034\n",
      "8     1375453\n",
      "2     1366620\n",
      "10    1360834\n",
      "16    1352225\n",
      "1     1344645\n",
      "17    1334265\n",
      "3     1317776\n",
      "12    1317679\n",
      "13    1189610\n",
      "5     1177987\n",
      "4     1082617\n",
      "6     1071644\n",
      "18    1032370\n",
      "9      617566\n",
      "Name: count, dtype: int64\n",
      "**********\n",
      "pre_loans_next_pay_summ\n",
      "2    17777162\n",
      "0     1452141\n",
      "5     1438360\n",
      "3     1406202\n",
      "1     1382525\n",
      "4     1372003\n",
      "6     1334324\n",
      "Name: count, dtype: int64\n",
      "**********\n",
      "pre_loans_outstanding\n",
      "3    20909470\n",
      "1     1343015\n",
      "2     1316280\n",
      "5     1306107\n",
      "4     1287845\n",
      "Name: count, dtype: int64\n",
      "**********\n",
      "pre_loans_total_overdue\n",
      "0    26162716\n",
      "1           1\n",
      "Name: count, dtype: int64\n",
      "**********\n",
      "pre_loans_max_overdue_sum\n",
      "2    24071329\n",
      "3     1113827\n",
      "1      977560\n",
      "0           1\n",
      "Name: count, dtype: int64\n",
      "**********\n",
      "pre_loans_credit_cost_rate\n",
      "4     7018834\n",
      "2     6262438\n",
      "3     1638369\n",
      "5     1524119\n",
      "9     1375623\n",
      "1     1357623\n",
      "7     1355353\n",
      "0     1242721\n",
      "11    1215253\n",
      "13    1187225\n",
      "8      987541\n",
      "6      552788\n",
      "10     444745\n",
      "12         85\n",
      "Name: count, dtype: int64\n",
      "**********\n",
      "pre_loans5\n",
      "6     26019398\n",
      "0        95329\n",
      "3        28998\n",
      "5        11810\n",
      "2         4386\n",
      "16        1766\n",
      "13         640\n",
      "7          250\n",
      "1           91\n",
      "8           32\n",
      "9           13\n",
      "11           3\n",
      "10           1\n",
      "Name: count, dtype: int64\n",
      "**********\n",
      "pre_loans530\n",
      "16    25550977\n",
      "13      422128\n",
      "0       110507\n",
      "18       42054\n",
      "6        19217\n",
      "3         9117\n",
      "2         4433\n",
      "12        2185\n",
      "15         864\n",
      "4          575\n",
      "14         337\n",
      "1          138\n",
      "10          91\n",
      "19          36\n",
      "7           29\n",
      "11          16\n",
      "5            5\n",
      "9            4\n",
      "8            3\n",
      "17           1\n",
      "Name: count, dtype: int64\n",
      "**********\n",
      "pre_loans3060\n",
      "5    26147054\n",
      "8       12924\n",
      "2        2115\n",
      "7         468\n",
      "9         112\n",
      "1          34\n",
      "6           6\n",
      "0           2\n",
      "3           1\n",
      "4           1\n",
      "Name: count, dtype: int64\n",
      "**********\n",
      "pre_loans6090\n",
      "4    26161392\n",
      "1        1236\n",
      "2          76\n",
      "3          12\n",
      "0           1\n",
      "Name: count, dtype: int64\n",
      "**********\n",
      "pre_loans90\n",
      "8     26147777\n",
      "14       11519\n",
      "13        2191\n",
      "19         791\n",
      "2          278\n",
      "10         120\n",
      "3           41\n",
      "Name: count, dtype: int64\n",
      "**********\n",
      "is_zero_loans5\n",
      "1    24035861\n",
      "0     2126856\n",
      "Name: count, dtype: int64\n",
      "**********\n",
      "is_zero_loans530\n",
      "1    21772900\n",
      "0     4389817\n",
      "Name: count, dtype: int64\n",
      "**********\n",
      "is_zero_loans3060\n",
      "1    25047143\n",
      "0     1115574\n",
      "Name: count, dtype: int64\n",
      "**********\n",
      "is_zero_loans6090\n",
      "1    25519933\n",
      "0      642784\n",
      "Name: count, dtype: int64\n",
      "**********\n",
      "is_zero_loans90\n",
      "1    25535248\n",
      "0      627469\n",
      "Name: count, dtype: int64\n",
      "**********\n",
      "pre_util\n",
      "16    18599223\n",
      "9      1751629\n",
      "3       962796\n",
      "18      595518\n",
      "6       487768\n",
      "11      453764\n",
      "15      380229\n",
      "1       332213\n",
      "7       289571\n",
      "10      277074\n",
      "0       273076\n",
      "4       264892\n",
      "12      255734\n",
      "8       254544\n",
      "19      241398\n",
      "13      238202\n",
      "2       235478\n",
      "5       230661\n",
      "17       26686\n",
      "14       12261\n",
      "Name: count, dtype: int64\n",
      "**********\n",
      "pre_over2limit\n",
      "2     24403395\n",
      "5      1717063\n",
      "17       12381\n",
      "6         7073\n",
      "15        3031\n",
      "4         2688\n",
      "8         1784\n",
      "14        1415\n",
      "11        1390\n",
      "13        1277\n",
      "3         1270\n",
      "19        1168\n",
      "10        1168\n",
      "12        1167\n",
      "9         1125\n",
      "0         1094\n",
      "7         1079\n",
      "1         1063\n",
      "16        1051\n",
      "18        1035\n",
      "Name: count, dtype: int64\n",
      "**********\n",
      "pre_maxover2limit\n",
      "17    23505568\n",
      "4      1721548\n",
      "3       571242\n",
      "0       161648\n",
      "11       73027\n",
      "15       24387\n",
      "5        23609\n",
      "9        23511\n",
      "16        9324\n",
      "8         6894\n",
      "14        5335\n",
      "12        4940\n",
      "13        4648\n",
      "10        4359\n",
      "19        4264\n",
      "2         4074\n",
      "7         4073\n",
      "1         3998\n",
      "18        3472\n",
      "6         2796\n",
      "Name: count, dtype: int64\n",
      "**********\n",
      "is_zero_util\n",
      "1    18258067\n",
      "0     7904650\n",
      "Name: count, dtype: int64\n",
      "**********\n",
      "is_zero_over2limit\n",
      "1    24334366\n",
      "0     1828351\n",
      "Name: count, dtype: int64\n",
      "**********\n",
      "is_zero_maxover2limit\n",
      "1    22383950\n",
      "0     3778767\n",
      "Name: count, dtype: int64\n",
      "**********\n",
      "enc_paym_0\n",
      "0    24136144\n",
      "3     1109198\n",
      "1      853844\n",
      "2       63531\n",
      "Name: count, dtype: int64\n",
      "**********\n",
      "enc_paym_1\n",
      "0    21792098\n",
      "3     2733662\n",
      "1     1521366\n",
      "2      115591\n",
      "Name: count, dtype: int64\n",
      "**********\n",
      "enc_paym_2\n",
      "0    20686082\n",
      "3     4008468\n",
      "1     1362284\n",
      "2      105883\n",
      "Name: count, dtype: int64\n",
      "**********\n",
      "enc_paym_3\n",
      "0    19601983\n",
      "3     5167483\n",
      "1     1292438\n",
      "2      100813\n",
      "Name: count, dtype: int64\n",
      "**********\n",
      "enc_paym_4\n",
      "0    18500050\n",
      "3     6356585\n",
      "1     1212916\n",
      "2       93166\n",
      "Name: count, dtype: int64\n",
      "**********\n",
      "enc_paym_5\n",
      "0    17409261\n",
      "3     7542048\n",
      "1     1125455\n",
      "2       85953\n",
      "Name: count, dtype: int64\n",
      "**********\n",
      "enc_paym_6\n",
      "0    16073316\n",
      "3     8980208\n",
      "1     1034735\n",
      "2       74458\n",
      "Name: count, dtype: int64\n",
      "**********\n",
      "enc_paym_7\n",
      "0    14780042\n",
      "3    10354898\n",
      "1      959831\n",
      "2       67946\n",
      "Name: count, dtype: int64\n",
      "**********\n",
      "enc_paym_8\n",
      "0    13842200\n",
      "3    11370158\n",
      "1      888696\n",
      "2       61663\n",
      "Name: count, dtype: int64\n",
      "**********\n",
      "enc_paym_9\n",
      "0    12943923\n",
      "3    12343335\n",
      "1      820177\n",
      "2       55282\n",
      "Name: count, dtype: int64\n",
      "**********\n",
      "enc_paym_10\n",
      "3    13486126\n",
      "0    11886401\n",
      "1      739935\n",
      "2       50255\n",
      "Name: count, dtype: int64\n",
      "**********\n",
      "enc_paym_11\n",
      "4    14650304\n",
      "1    10796534\n",
      "2      669937\n",
      "3       45942\n",
      "Name: count, dtype: int64\n",
      "**********\n",
      "enc_paym_12\n",
      "3    15844536\n",
      "0     9676643\n",
      "1      597470\n",
      "2       44068\n",
      "Name: count, dtype: int64\n",
      "**********\n",
      "enc_paym_13\n",
      "3    16924629\n",
      "0     8638241\n",
      "1      557416\n",
      "2       42431\n",
      "Name: count, dtype: int64\n",
      "**********\n",
      "enc_paym_14\n",
      "3    17485829\n",
      "0     8103776\n",
      "1      531865\n",
      "2       41247\n",
      "Name: count, dtype: int64\n",
      "**********\n",
      "enc_paym_15\n",
      "3    17925332\n",
      "0     7689930\n",
      "1      507580\n",
      "2       39875\n",
      "Name: count, dtype: int64\n",
      "**********\n",
      "enc_paym_16\n",
      "3    18322875\n",
      "0     7315283\n",
      "1      486053\n",
      "2       38506\n",
      "Name: count, dtype: int64\n",
      "**********\n",
      "enc_paym_17\n",
      "3    18697435\n",
      "0     6965264\n",
      "1      463426\n",
      "2       36592\n",
      "Name: count, dtype: int64\n",
      "**********\n",
      "enc_paym_18\n",
      "3    19094597\n",
      "0     6591695\n",
      "1      440732\n",
      "2       35693\n",
      "Name: count, dtype: int64\n",
      "**********\n",
      "enc_paym_19\n",
      "3    19453734\n",
      "0     6253782\n",
      "1      421092\n",
      "2       34109\n",
      "Name: count, dtype: int64\n",
      "**********\n",
      "enc_paym_20\n",
      "4    19762231\n",
      "1     5965048\n",
      "2      402922\n",
      "3       32516\n",
      "Name: count, dtype: int64\n",
      "**********\n",
      "enc_paym_21\n",
      "3    20049435\n",
      "0     5697416\n",
      "1      384819\n",
      "2       31047\n",
      "Name: count, dtype: int64\n",
      "**********\n"
     ]
    },
    {
     "name": "stdout",
     "output_type": "stream",
     "text": [
      "enc_paym_22\n",
      "3    20332673\n",
      "0     5435204\n",
      "1      365132\n",
      "2       29708\n",
      "Name: count, dtype: int64\n",
      "**********\n",
      "enc_paym_23\n",
      "3    20634992\n",
      "0     5157075\n",
      "1      342900\n",
      "2       27750\n",
      "Name: count, dtype: int64\n",
      "**********\n",
      "enc_paym_24\n",
      "4    21966247\n",
      "1     3919903\n",
      "2      251452\n",
      "3       25115\n",
      "Name: count, dtype: int64\n",
      "**********\n",
      "enc_loans_account_holder_type\n",
      "1    25807322\n",
      "3      213021\n",
      "4      117422\n",
      "6       20625\n",
      "5        2232\n",
      "2        2031\n",
      "0          64\n",
      "Name: count, dtype: int64\n",
      "**********\n",
      "enc_loans_credit_status\n",
      "3    17561773\n",
      "2     8276203\n",
      "4      201958\n",
      "5       68431\n",
      "1       48568\n",
      "6        3803\n",
      "0        1981\n",
      "Name: count, dtype: int64\n",
      "**********\n",
      "enc_loans_credit_type\n",
      "4    14774986\n",
      "3     7736233\n",
      "5     1050346\n",
      "1      880196\n",
      "0      756480\n",
      "2      617386\n",
      "7      310217\n",
      "6       36873\n",
      "Name: count, dtype: int64\n",
      "**********\n",
      "enc_loans_account_cur\n",
      "1    26100882\n",
      "2       53102\n",
      "0        8550\n",
      "3         183\n",
      "Name: count, dtype: int64\n",
      "**********\n",
      "pclose_flag\n",
      "0    22259294\n",
      "1     3903423\n",
      "Name: count, dtype: int64\n",
      "**********\n",
      "fclose_flag\n",
      "0    20172292\n",
      "1     5990425\n",
      "Name: count, dtype: int64\n",
      "**********\n"
     ]
    }
   ],
   "source": [
    "for col in data.columns:\n",
    "    print(data[col].value_counts(dropna=False))\n",
    "    print(10 * '*')"
   ]
  },
  {
   "cell_type": "markdown",
   "id": "bca3cf85",
   "metadata": {},
   "source": [
    "Из этого можем увидеть, что данные довольно сложно обработать (создать новые признаки) из-за отсутствия понимания, что скрывается за кодировкой. Пустых значений нет. Можно удалить признак \"pre_loans_total_overdue\", т.к. он имеет всего 1 отличное значение.\n",
    "При моделировании можно понизить размерность всех столбцов (кроме id) до int8, т.к. нет значений выходящих за этот диапазон.\n",
    "Ниже подробно разобрана возможность создания признаков по флагам и кол-ву просрочки "
   ]
  },
  {
   "cell_type": "code",
   "execution_count": 8,
   "id": "644c00cc",
   "metadata": {
    "scrolled": true
   },
   "outputs": [
    {
     "name": "stdout",
     "output_type": "stream",
     "text": [
      "pre_loans5  is_zero_loans5\n",
      "0           0                    95329\n",
      "1           0                       91\n",
      "2           0                     4386\n",
      "3           0                    28998\n",
      "5           0                    11810\n",
      "6           0                  1983537\n",
      "            1                 24035861\n",
      "7           0                      250\n",
      "8           0                       32\n",
      "9           0                       13\n",
      "10          0                        1\n",
      "11          0                        3\n",
      "13          0                      640\n",
      "16          0                     1766\n",
      "Name: pre_loans5, dtype: int64\n",
      "----------------------------------------------------------------------------------------------------\n",
      "pre_loans530  is_zero_loans530\n",
      "0             0                     110507\n",
      "1             0                        138\n",
      "2             0                       4433\n",
      "3             0                       9117\n",
      "4             0                        575\n",
      "5             0                          5\n",
      "6             0                      19217\n",
      "7             0                         29\n",
      "8             0                          3\n",
      "9             0                          4\n",
      "10            0                         91\n",
      "11            0                         16\n",
      "12            0                       2185\n",
      "13            0                     422128\n",
      "14            0                        337\n",
      "15            0                        864\n",
      "16            0                    3778077\n",
      "              1                   21772900\n",
      "17            0                          1\n",
      "18            0                      42054\n",
      "19            0                         36\n",
      "Name: pre_loans530, dtype: int64\n",
      "----------------------------------------------------------------------------------------------------\n",
      "pre_loans3060  is_zero_loans3060\n",
      "0              0                           2\n",
      "1              0                          34\n",
      "2              0                        2115\n",
      "3              0                           1\n",
      "4              0                           1\n",
      "5              0                     1099911\n",
      "               1                    25047143\n",
      "6              0                           6\n",
      "7              0                         468\n",
      "8              0                       12924\n",
      "9              0                         112\n",
      "Name: pre_loans3060, dtype: int64\n",
      "----------------------------------------------------------------------------------------------------\n",
      "pre_loans6090  is_zero_loans6090\n",
      "0              0                           1\n",
      "1              0                        1236\n",
      "2              0                          76\n",
      "3              0                          12\n",
      "4              0                      641459\n",
      "               1                    25519933\n",
      "Name: pre_loans6090, dtype: int64\n",
      "----------------------------------------------------------------------------------------------------\n",
      "pre_loans90  is_zero_loans90\n",
      "2            0                       278\n",
      "3            0                        41\n",
      "8            0                    612529\n",
      "             1                  25535248\n",
      "10           0                       120\n",
      "13           0                      2191\n",
      "14           0                     11519\n",
      "19           0                       791\n",
      "Name: pre_loans90, dtype: int64\n",
      "----------------------------------------------------------------------------------------------------\n"
     ]
    }
   ],
   "source": [
    "counts_npl = ['pre_loans5', 'pre_loans530', 'pre_loans3060', 'pre_loans6090', 'pre_loans90']\n",
    "mark_npl = ['is_zero_loans5', 'is_zero_loans530', 'is_zero_loans3060', 'is_zero_loans6090', 'is_zero_loans90']\n",
    "\n",
    "for i in range(len(counts_npl)):\n",
    "    print(data.groupby([counts_npl[i],mark_npl[i]], as_index=True)[counts_npl[i]].count())\n",
    "    print(100 * \"-\")"
   ]
  },
  {
   "cell_type": "markdown",
   "id": "71d25b1a",
   "metadata": {},
   "source": [
    "Из флагов нет просрочек до N дней и кол-во просрочек до N дней, можно выделить по каждому клиенту долю договоров, которые не выходили на просроченную задолженность до N дней, т.е получить условный коэффициент вероятности возникновения просроченной задолженности по клиенту в каждой группе N дней:\n",
    "\n",
    "1 - (кол-во договоров с отсутствием просрочки по клиенту в N группе/ общее количество договоров клиента)\n",
    "\n",
    "чем выше коэффициент, тем выше вероятность перехода в N корзину просрочки клиента"
   ]
  },
  {
   "cell_type": "markdown",
   "id": "a6105cf8",
   "metadata": {},
   "source": [
    "### Информация по целевой переменной"
   ]
  },
  {
   "cell_type": "code",
   "execution_count": 12,
   "id": "bd482a16",
   "metadata": {
    "scrolled": true
   },
   "outputs": [
    {
     "data": {
      "text/plain": [
       "flag\n",
       "0    2893558\n",
       "1     106442\n",
       "Name: count, dtype: int64"
      ]
     },
     "execution_count": 12,
     "metadata": {},
     "output_type": "execute_result"
    }
   ],
   "source": [
    "targets = pd.read_csv('train_target.csv')\n",
    "targets.flag.value_counts()"
   ]
  },
  {
   "cell_type": "markdown",
   "id": "cb2ff16e",
   "metadata": {},
   "source": [
    "Доля просрочки по клиенту среди всех клиентов составляет около 4%, что говорит о том, что есть сильный дисбаланс данных"
   ]
  },
  {
   "cell_type": "markdown",
   "id": "6e18d24a",
   "metadata": {},
   "source": [
    "### Построение моделей"
   ]
  },
  {
   "cell_type": "code",
   "execution_count": 13,
   "id": "d3ffe297",
   "metadata": {},
   "outputs": [
    {
     "data": {
      "text/plain": [
       "3393"
      ]
     },
     "execution_count": 13,
     "metadata": {},
     "output_type": "execute_result"
    }
   ],
   "source": [
    "data_target = data.merge(targets[['id','flag']], on=\"id\")\n",
    "\n",
    "del data\n",
    "del targets\n",
    "gc.collect()"
   ]
  },
  {
   "cell_type": "code",
   "execution_count": 14,
   "id": "11490c8b",
   "metadata": {
    "scrolled": true
   },
   "outputs": [
    {
     "data": {
      "text/plain": [
       "1409"
      ]
     },
     "execution_count": 14,
     "metadata": {},
     "output_type": "execute_result"
    }
   ],
   "source": [
    "data_target.drop('id',axis=1,inplace=True)\n",
    "\n",
    "x = data_target.drop('flag', axis=1)\n",
    "y = data_target['flag']\n",
    "\n",
    "del data_target\n",
    "gc.collect()"
   ]
  },
  {
   "cell_type": "markdown",
   "id": "540a30da",
   "metadata": {},
   "source": [
    "### Разбивка данных 70 на 30"
   ]
  },
  {
   "cell_type": "code",
   "execution_count": 15,
   "id": "23876862",
   "metadata": {},
   "outputs": [],
   "source": [
    "x_train, x_test, y_train, y_test = train_test_split(x, y, test_size=0.3, random_state=42, stratify=y)"
   ]
  },
  {
   "cell_type": "code",
   "execution_count": 16,
   "id": "a0bdb562",
   "metadata": {},
   "outputs": [],
   "source": [
    "def scores(real_y, pred_y, roc_y):\n",
    "    ras = roc_auc_score(real_y, roc_y)\n",
    "    fm = classification_report(real_y, pred_y)\n",
    "    cm = confusion_matrix(real_y, pred_y)\n",
    "    \n",
    "    print(f\"Матрица ошибок\\n\"\n",
    "          , cm, \"\\n\\n\"\n",
    "          f\"Метрика ROC-AUC {ras}\\n\\n\"\n",
    "          f\"F-мера\\n\"\n",
    "         , fm)"
   ]
  },
  {
   "cell_type": "code",
   "execution_count": 26,
   "id": "c5266533",
   "metadata": {
    "scrolled": true
   },
   "outputs": [
    {
     "name": "stdout",
     "output_type": "stream",
     "text": [
      "MLPClassifier(random_state=42)\n",
      "Матрица ошибок\n",
      " [[68527  2208]\n",
      " [ 1967   201]] \n",
      "\n",
      "Метрика ROC-AUC 0.6213513054936869\n",
      "\n",
      "F-мера\n",
      "               precision    recall  f1-score   support\n",
      "\n",
      "           0       0.97      0.97      0.97     70735\n",
      "           1       0.08      0.09      0.09      2168\n",
      "\n",
      "    accuracy                           0.94     72903\n",
      "   macro avg       0.53      0.53      0.53     72903\n",
      "weighted avg       0.95      0.94      0.94     72903\n",
      "\n",
      "********************\n",
      "LogisticRegression(random_state=42)\n",
      "Матрица ошибок\n",
      " [[70702    33]\n",
      " [ 2162     6]] \n",
      "\n",
      "Метрика ROC-AUC 0.7370047096420635\n",
      "\n",
      "F-мера\n",
      "               precision    recall  f1-score   support\n",
      "\n",
      "           0       0.97      1.00      0.98     70735\n",
      "           1       0.15      0.00      0.01      2168\n",
      "\n",
      "    accuracy                           0.97     72903\n",
      "   macro avg       0.56      0.50      0.50     72903\n",
      "weighted avg       0.95      0.97      0.96     72903\n",
      "\n",
      "********************\n",
      "GradientBoostingClassifier(random_state=42)\n",
      "Матрица ошибок\n",
      " [[70701    34]\n",
      " [ 2162     6]] \n",
      "\n",
      "Метрика ROC-AUC 0.7577657513869265\n",
      "\n",
      "F-мера\n",
      "               precision    recall  f1-score   support\n",
      "\n",
      "           0       0.97      1.00      0.98     70735\n",
      "           1       0.15      0.00      0.01      2168\n",
      "\n",
      "    accuracy                           0.97     72903\n",
      "   macro avg       0.56      0.50      0.50     72903\n",
      "weighted avg       0.95      0.97      0.96     72903\n",
      "\n",
      "********************\n"
     ]
    }
   ],
   "source": [
    "models = (MLPClassifier(random_state=42),\n",
    "          LogisticRegression(random_state=42),\n",
    "          GradientBoostingClassifier(random_state=42)\n",
    "         )\n",
    "\n",
    "for model in models:\n",
    "    model.fit(x_train, y_train)\n",
    "    roc_pred_y = model.predict_proba(x_test)[:, 1]\n",
    "    pred_y = model.predict(x_test)\n",
    "    print(model)\n",
    "    scores(y_test, pred_y, roc_pred_y)\n",
    "    print(20 * '*')"
   ]
  },
  {
   "cell_type": "markdown",
   "id": "f09f6cbc",
   "metadata": {},
   "source": [
    "Худшую метрику roc-auc имеет MLPClassifier (также высокий процент ошибок в предсказании недефолтного класса дефолтным должникам).\n",
    "Логистическая регресссия и градиентный бустинг в разы меньше относят дефолтных должников к недефолтным, но процент вернопредсказанных дефолтных должников невысокий.\n",
    "Т.к. градиентный бустинг показал лучший результат среди трёх моделей его и выберем моделью для дальнейшего подбора гиперпараметров."
   ]
  },
  {
   "cell_type": "code",
   "execution_count": 21,
   "id": "e5d299dd",
   "metadata": {
    "scrolled": false
   },
   "outputs": [
    {
     "data": {
      "image/png": "[encoded data removed]",
      "text/plain": [
       "<Figure size 640x480 with 1 Axes>"
      ]
     },
     "metadata": {},
     "output_type": "display_data"
    }
   ],
   "source": [
    "fpr, tpr, treshold = roc_curve(y_test, roc_pred_y)\n",
    "roc_auc = auc(fpr, tpr)\n",
    "# строим график\n",
    "plt.plot(fpr, tpr, color='darkorange',\n",
    "         label='ROC кривая (area = %0.2f)' % roc_auc)\n",
    "plt.plot([0, 1], [0, 1], color='navy', linestyle='--')\n",
    "plt.xlim([0.0, 1.0])\n",
    "plt.ylim([0.0, 1.05])\n",
    "plt.xlabel('False Positive Rate')\n",
    "plt.ylabel('True Positive Rate')\n",
    "plt.title('ROC_кривая')\n",
    "plt.legend(loc=\"lower right\")\n",
    "plt.show()"
   ]
  },
  {
   "cell_type": "code",
   "execution_count": 52,
   "id": "35cf49d4",
   "metadata": {
    "scrolled": true
   },
   "outputs": [
    {
     "ename": "AttributeError",
     "evalue": "'GridSearchCV' object has no attribute 'grid_scores_'",
     "output_type": "error",
     "traceback": [
      "\u001b[1;31m---------------------------------------------------------------------------\u001b[0m",
      "\u001b[1;31mAttributeError\u001b[0m                            Traceback (most recent call last)",
      "Cell \u001b[1;32mIn[52], line 10\u001b[0m\n\u001b[0;32m      8\u001b[0m tuning \u001b[38;5;241m=\u001b[39m GridSearchCV(estimator\u001b[38;5;241m=\u001b[39mGBC, param_grid \u001b[38;5;241m=\u001b[39m params, scoring\u001b[38;5;241m=\u001b[39m\u001b[38;5;124m'\u001b[39m\u001b[38;5;124mroc_auc\u001b[39m\u001b[38;5;124m'\u001b[39m, n_jobs\u001b[38;5;241m=\u001b[39m\u001b[38;5;241m-\u001b[39m\u001b[38;5;241m1\u001b[39m, cv\u001b[38;5;241m=\u001b[39m\u001b[38;5;241m5\u001b[39m)\n\u001b[0;32m      9\u001b[0m tuning\u001b[38;5;241m.\u001b[39mfit(x_train,y_train)\n\u001b[1;32m---> 10\u001b[0m tuning\u001b[38;5;241m.\u001b[39mgrid_scores_, tuning\u001b[38;5;241m.\u001b[39mbest_params_, tuning\u001b[38;5;241m.\u001b[39mbest_score_\n",
      "\u001b[1;31mAttributeError\u001b[0m: 'GridSearchCV' object has no attribute 'grid_scores_'"
     ]
    }
   ],
   "source": [
    "params = {'learning_rate':[0.15,0.1,0.05,0.01,0.005,0.001], \n",
    "          'n_estimators':[750,1000,1250,1500,1750],\n",
    "          'max_depth':[2,3,4,5,6,7]}\n",
    "\n",
    "GBC = GradientBoostingClassifier(min_samples_split=2, min_samples_leaf=1, \n",
    "                                 subsample=1, max_features='sqrt', random_state=42)\n",
    "\n",
    "tuning = GridSearchCV(estimator=GBC, param_grid = params, scoring='roc_auc', n_jobs=-1, cv=5)\n",
    "tuning.fit(x_train, y_train)"
   ]
  },
  {
   "cell_type": "markdown",
   "id": "7d219329",
   "metadata": {},
   "source": [
    "Часть гипермараметров подбиралась по одному признаку (случайно удалены результаты вычислений), остальные подбирались совокупно\n",
    "ниже информация по признакам (проверка производилась по 30% от всех данных)"
   ]
  },
  {
   "cell_type": "code",
   "execution_count": 60,
   "id": "af21b4eb",
   "metadata": {
    "scrolled": true
   },
   "outputs": [
    {
     "data": {
      "text/plain": [
       "{'learning_rate': 0.005, 'max_depth': 7, 'n_estimators': 1750}"
      ]
     },
     "execution_count": 60,
     "metadata": {},
     "output_type": "execute_result"
    }
   ],
   "source": [
    "tuning.best_params_"
   ]
  },
  {
   "cell_type": "code",
   "execution_count": 17,
   "id": "b9e89a3d",
   "metadata": {},
   "outputs": [],
   "source": [
    "model = GradientBoostingClassifier(min_samples_split=2, min_samples_leaf=1, \n",
    "                                 subsample=1, max_features='sqrt', random_state=42,\n",
    "                                 learning_rate=0.005, max_depth=7, n_estimators=1750)"
   ]
  },
  {
   "cell_type": "code",
   "execution_count": 20,
   "id": "1c68df95",
   "metadata": {},
   "outputs": [
    {
     "name": "stdout",
     "output_type": "stream",
     "text": [
      "GradientBoostingClassifier(learning_rate=0.005, max_depth=7,\n",
      "                           max_features='sqrt', n_estimators=1750,\n",
      "                           random_state=42, subsample=1)\n",
      "Матрица ошибок\n",
      " [[868040     27]\n",
      " [ 31907     26]] \n",
      "\n",
      "Метрика ROC-AUC 0.7540630288328024\n",
      "\n",
      "F-мера\n",
      "               precision    recall  f1-score   support\n",
      "\n",
      "           0       0.96      1.00      0.98    868067\n",
      "           1       0.49      0.00      0.00     31933\n",
      "\n",
      "    accuracy                           0.96    900000\n",
      "   macro avg       0.73      0.50      0.49    900000\n",
      "weighted avg       0.95      0.96      0.95    900000\n",
      "\n",
      "********************\n"
     ]
    }
   ],
   "source": [
    "model.fit(x_train, y_train)\n",
    "roc_pred_y = model.predict_proba(x_test)[:, 1]\n",
    "pred_y = model.predict(x_test)\n",
    "print(model)\n",
    "scores(y_test, pred_y, roc_pred_y)\n",
    "print(20 * '*')"
   ]
  },
  {
   "cell_type": "markdown",
   "id": "0dcf4d47",
   "metadata": {},
   "source": [
    "## Проверка на переобученность модели на всех данных"
   ]
  },
  {
   "cell_type": "code",
   "execution_count": null,
   "id": "09eb5d8d",
   "metadata": {},
   "outputs": [],
   "source": [
    "model = GradientBoostingClassifier(min_samples_split=2, min_samples_leaf=1, \n",
    "                                 subsample=1, max_features='sqrt', random_state=42,\n",
    "                                 learning_rate=0.005, max_depth=7, n_estimators=1750)"
   ]
  },
  {
   "cell_type": "code",
   "execution_count": 18,
   "id": "fa6bf8bb",
   "metadata": {},
   "outputs": [],
   "source": [
    "scores = cross_val_score(model, x, y, cv=5, scoring='roc_auc')"
   ]
  },
  {
   "cell_type": "code",
   "execution_count": 19,
   "id": "7cd1c833",
   "metadata": {
    "scrolled": true
   },
   "outputs": [
    {
     "data": {
      "text/plain": [
       "0.008525020360810475"
      ]
     },
     "execution_count": 19,
     "metadata": {},
     "output_type": "execute_result"
    }
   ],
   "source": [
    "scores.std()"
   ]
  },
  {
   "cell_type": "code",
   "execution_count": 20,
   "id": "14e08557",
   "metadata": {},
   "outputs": [
    {
     "data": {
      "text/plain": [
       "0.7542997349655703"
      ]
     },
     "execution_count": 20,
     "metadata": {},
     "output_type": "execute_result"
    }
   ],
   "source": [
    "scores.mean()"
   ]
  },
  {
   "cell_type": "code",
   "execution_count": 36,
   "id": "d497042b",
   "metadata": {
    "scrolled": true
   },
   "outputs": [
    {
     "name": "stdout",
     "output_type": "stream",
     "text": [
      "На фолде №1 - 0.77\n",
      "На фолде №2 - 0.75\n",
      "На фолде №3 - 0.75\n",
      "На фолде №4 - 0.75\n",
      "На фолде №5 - 0.75\n"
     ]
    }
   ],
   "source": [
    "for i in range(len(scores)):\n",
    "    print(f'На фолде №{i+1} - {round(scores[i], 2)}')"
   ]
  },
  {
   "cell_type": "markdown",
   "id": "998e10a0",
   "metadata": {},
   "source": [
    "Стандартное отклонение очень маленькое и обучение на разных фолдах почти одинаковое, что говорит о том, что модель\n",
    "не переобучена и её можно применять"
   ]
  }
 ],
 "metadata": {
  "kernelspec": {
   "display_name": "Python 3 (ipykernel)",
   "language": "python",
   "name": "python3"
  },
  "language_info": {
   "codemirror_mode": {
    "name": "ipython",
    "version": 3
   },
   "file_extension": ".py",
   "mimetype": "text/x-python",
   "name": "python",
   "nbconvert_exporter": "python",
   "pygments_lexer": "ipython3",
   "version": "3.11.5"
  },
  "varInspector": {
   "cols": {
    "lenName": 16,
    "lenType": 16,
    "lenVar": 40
   },
   "kernels_config": {
    "python": {
     "delete_cmd_postfix": "",
     "delete_cmd_prefix": "del ",
     "library": "var_list.py",
     "varRefreshCmd": "print(var_dic_list())"
    },
    "r": {
     "delete_cmd_postfix": ") ",
     "delete_cmd_prefix": "rm(",
     "library": "var_list.r",
     "varRefreshCmd": "cat(var_dic_list()) "
    }
   },
   "types_to_exclude": [
    "module",
    "function",
    "builtin_function_or_method",
    "instance",
    "_Feature"
   ],
   "window_display": false
  }
 },
 "nbformat": 4,
 "nbformat_minor": 5
}
